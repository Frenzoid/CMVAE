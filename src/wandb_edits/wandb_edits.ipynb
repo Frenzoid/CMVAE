{
 "cells": [
  {
   "cell_type": "code",
   "execution_count": null,
   "metadata": {},
   "outputs": [],
   "source": [
    "import wandb\n",
    "import csv\n",
    "\n",
    "wandb.login()\n",
    "api = wandb.Api()\n",
    "\n",
    "def transform_name(run_name: str) -> str:\n",
    "    pre_display = ['W=', 'Z=', 'C=', 'beta=', 'K=', 'seed=']\n",
    "    run_split = run_name.split('_')[:len(pre_display)]\n",
    "    return ' '.join(f'{k}{v}' for k,v in zip(pre_display, run_split))\n",
    "\n",
    "transform_name('32_64_35_1.0_10_2_pruning')"
   ]
  },
  {
   "cell_type": "code",
   "execution_count": null,
   "metadata": {},
   "outputs": [],
   "source": [
    "# Adding formatted name as metadata to runs for the plots\n",
    "\n",
    "entity_name = \"frenzoid-atml\"\n",
    "project_names = [\"CUBICC_FINAL\", 'POLYMNIST_FINAL']\n",
    "\n",
    "for project_name in project_names:\n",
    "    runs = api.runs(f\"{entity_name}/{project_name}\")\n",
    "    \n",
    "    for run in runs:\n",
    "        run_name = run.name\n",
    "        run_formatted_name= transform_name(run_name)\n",
    "        run.config['formatted_name'] = run_formatted_name\n",
    "        run.update()"
   ]
  }
 ],
 "metadata": {
  "kernelspec": {
   "display_name": "Python 3",
   "language": "python",
   "name": "python3"
  },
  "language_info": {
   "codemirror_mode": {
    "name": "ipython",
    "version": 3
   },
   "file_extension": ".py",
   "mimetype": "text/x-python",
   "name": "python",
   "nbconvert_exporter": "python",
   "pygments_lexer": "ipython3",
   "version": "3.11.7"
  }
 },
 "nbformat": 4,
 "nbformat_minor": 2
}
